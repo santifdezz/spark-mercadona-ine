{
 "cells": [
  {
   "cell_type": "code",
   "execution_count": null,
   "metadata": {},
   "outputs": [
    {
     "name": "stdout",
     "output_type": "stream",
     "text": [
      "Collecting geopy\n",
      "  Downloading geopy-2.4.1-py3-none-any.whl.metadata (6.8 kB)\n",
      "Collecting geographiclib<3,>=1.52 (from geopy)\n",
      "  Downloading geographiclib-2.0-py3-none-any.whl.metadata (1.4 kB)\n",
      "Downloading geopy-2.4.1-py3-none-any.whl (125 kB)\n",
      "Downloading geographiclib-2.0-py3-none-any.whl (40 kB)\n",
      "Installing collected packages: geographiclib, geopy\n",
      "Successfully installed geographiclib-2.0 geopy-2.4.1\n"
     ]
    }
   ],
   "source": [
    "#!pip install geopy"
   ]
  },
  {
   "cell_type": "code",
   "execution_count": null,
   "metadata": {},
   "outputs": [],
   "source": [
    "from geopy.geocoders import Nominatim\n",
    "import pandas as pd\n",
    "import time\n",
    "\n",
    "# Lee el archivo IPC2002-2024.csv separado por tabulador\n",
    "df_original = pd.read_csv('IPC2002-2024.csv', sep='\\t')\n",
    "\n",
    "# Convertimos la columna 'Total' a tipo float (reemplazando comas por puntos)\n",
    "df_original['Total'] = df_original['Total'].str.replace(',', '.')\n",
    "df_original['Total'] = df_original['Total'].astype(float)\n",
    "\n",
    "# Hacemos una copia profunda del DataFrame\n",
    "df = df_original.copy(deep=True)\n",
    "\n",
    "# Limpiamos los primeros dígitos de la columna 'Provincias'\n",
    "df['provincias_cleaned'] = df['Provincias'].str.replace(r'^\\d+\\s*', '', regex=True)\n",
    "\n",
    "\n",
    "# Eliminamos filas donde la provincia sea 'Nacional'\n",
    "df = df[df['provincias_cleaned'] != 'Nacional']"
   ]
  },
  {
   "cell_type": "markdown",
   "metadata": {},
   "source": [
    "# Buscamos las coordenadas de cada provincia"
   ]
  },
  {
   "cell_type": "code",
   "execution_count": 5,
   "metadata": {},
   "outputs": [],
   "source": [
    "geolocator = Nominatim(user_agent=\"geoapi\")\n",
    "geo_cache = {}  # Diccionario para almacenar los resultados de geocodificación\n",
    "latitudes = []\n",
    "longitudes = []\n",
    "\n",
    "for prov in df['provincias_cleaned']:\n",
    "    if prov not in geo_cache:  # Si la provincia no está en el diccionario, buscarla\n",
    "        location = geolocator.geocode(prov, country_codes=\"ES\")\n",
    "        if location:\n",
    "            geo_cache[prov] = (location.latitude, location.longitude)\n",
    "        else:\n",
    "            geo_cache[prov] = (None, None)\n",
    "        time.sleep(1)  # Para no saturar el servicio\n",
    "    latitudes.append(geo_cache[prov][0])\n",
    "    longitudes.append(geo_cache[prov][1])\n",
    "\n",
    "df['lat'] = latitudes\n",
    "df['lon'] = longitudes\n",
    "\n",
    "\n",
    "#concatena a el dataframe original la latitud y longitud\n",
    "df_original = pd.concat([df_original, df[['lat', 'lon']]], axis=1)\n",
    "df_original.to_json(\"IPC2002-2024.json\", orient='records', force_ascii=False)"
   ]
  }
 ],
 "metadata": {
  "kernelspec": {
   "display_name": "bigdata",
   "language": "python",
   "name": "python3"
  },
  "language_info": {
   "codemirror_mode": {
    "name": "ipython",
    "version": 3
   },
   "file_extension": ".py",
   "mimetype": "text/x-python",
   "name": "python",
   "nbconvert_exporter": "python",
   "pygments_lexer": "ipython3",
   "version": "3.12.3"
  }
 },
 "nbformat": 4,
 "nbformat_minor": 2
}
