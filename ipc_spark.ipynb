{
 "cells": [
  {
   "cell_type": "markdown",
   "metadata": {},
   "source": [
    "# --- Importacion de Librerias ---"
   ]
  },
  {
   "cell_type": "code",
   "execution_count": 13,
   "metadata": {},
   "outputs": [],
   "source": [
    "from pyspark.sql import SparkSession\n",
    "from pyspark import SparkContext\n",
    "from pyspark.sql import functions as F \n",
    "from datetime import datetime\n",
    "import logging\n",
    "import sys\n",
    "import locale\n",
    "reload(sys)\n",
    "sys.setdefaultencoding('utf-8')\n",
    "locale.setlocale(locale.LC_ALL, 'es_ES.UTF-8')"
   ]
  },
  {
   "cell_type": "markdown",
   "metadata": {},
   "source": [
    "# --- Lectura de datos ---"
   ]
  },
  {
   "cell_type": "code",
   "execution_count": null,
   "metadata": {},
   "outputs": [],
   "source": [
    "if __name__ == '__main__':\n",
    "    spark = SparkSession \\\n",
    "        .builder \\\n",
    "        .appName('IPC_2002-2024_085') \\\n",
    "        .getOrCreate()\n",
    "    sc = spark.sparkContext\n"
   ]
  },
  {
   "cell_type": "code",
   "execution_count": 10,
   "metadata": {},
   "outputs": [],
   "source": [
    "    ruta_hdfs = \"hdfs:///user/xuedua085/datasetipc/IPC2002-2024.json\"\n",
    "    df = spark.read.option(\"mode\", \"FAILFAST\").json(ruta_hdfs)"
   ]
  },
  {
   "cell_type": "code",
   "execution_count": 11,
   "metadata": {},
   "outputs": [
    {
     "name": "stdout",
     "output_type": "stream",
     "text": [
      "## Esquema del DataFrame:\n",
      "root\n",
      " |-- Grupos ECOICOP: string (nullable = true)\n",
      " |-- Periodo: long (nullable = true)\n",
      " |-- Provincias: string (nullable = true)\n",
      " |-- Tipo de dato: string (nullable = true)\n",
      " |-- Total: double (nullable = true)\n",
      " |-- lat: double (nullable = true)\n",
      " |-- lon: double (nullable = true)\n",
      "\n",
      "\n",
      "## Algunos datos de ejemplo (primeras 5 filas):\n",
      "+--------------+-------+--------------+------------+-------+----------+----------+\n",
      "|Grupos ECOICOP|Periodo|Provincias    |Tipo de dato|Total  |lat       |lon       |\n",
      "+--------------+-------+--------------+------------+-------+----------+----------+\n",
      "|Índice general|2024   |01 Araba/Álava|Media anual |114.19 |42.8440722|-2.6820829|\n",
      "|Índice general|2023   |01 Araba/Álava|Media anual |111.378|42.8440722|-2.6820829|\n",
      "|Índice general|2022   |01 Araba/Álava|Media anual |108.092|42.8440722|-2.6820829|\n",
      "|Índice general|2021   |01 Araba/Álava|Media anual |100.0  |42.8440722|-2.6820829|\n",
      "|Índice general|2020   |01 Araba/Álava|Media anual |96.923 |42.8440722|-2.6820829|\n",
      "+--------------+-------+--------------+------------+-------+----------+----------+\n",
      "only showing top 5 rows\n",
      "\n"
     ]
    }
   ],
   "source": [
    "    print(\"## Esquema del DataFrame:\")\n",
    "    df.printSchema()\n",
    "\n",
    "    print(\"\\n## Algunos datos de ejemplo (primeras 5 filas):\")\n",
    "    df.show(5, truncate=False)"
   ]
  },
  {
   "cell_type": "markdown",
   "metadata": {},
   "source": [
    "# --- Consultas Interesantes ---"
   ]
  },
  {
   "cell_type": "code",
   "execution_count": 14,
   "metadata": {},
   "outputs": [
    {
     "name": "stdout",
     "output_type": "stream",
     "text": [
      "\n",
      "## 1. Evolución del IPC 'Índice general' (Media anual) para '15 Coruña, A' (5 más recientes):\n",
      "+-------+-------+\n",
      "|Periodo|  Total|\n",
      "+-------+-------+\n",
      "|   2024|115.693|\n",
      "|   2023|112.362|\n",
      "|   2022|108.481|\n",
      "|   2021|  100.0|\n",
      "|   2020| 96.755|\n",
      "+-------+-------+\n",
      "only showing top 5 rows\n",
      "\n"
     ]
    }
   ],
   "source": [
    "    # 1. Evolución del IPC \"Índice general\" (Media anual) para \"15 Coruña, A\" - 5 periodos más recientes.\n",
    "    print(\"\\n## 1. Evolución del IPC 'Índice general' (Media anual) para '15 Coruña, A' (5 más recientes):\")\n",
    "    evolucion_ipc_coru = df.filter(\n",
    "        (F.col(\"Provincias\") == \"15 Coruña, A\") &\n",
    "        (F.col(\"Grupos ECOICOP\") == \"Índice general\") &\n",
    "        (F.col(\"Tipo de dato\") == \"Media anual\")\n",
    "    ).select(\"Periodo\", \"Total\").orderBy(F.col(\"Periodo\").desc()) # Ordenamos descendente por periodo\n",
    "\n",
    "    evolucion_ipc_coru.show(5)\n"
   ]
  },
  {
   "cell_type": "code",
   "execution_count": 15,
   "metadata": {},
   "outputs": [
    {
     "name": "stdout",
     "output_type": "stream",
     "text": [
      "\n",
      "## 2. Top 5 'Grupos ECOICOP' por IPC (Media anual) en 2023 para '15 Coruña, A' (excl. Índice general):\n",
      "+-------------------------------------------------------------------------------------+-------+\n",
      "|Grupos ECOICOP                                                                       |Total  |\n",
      "+-------------------------------------------------------------------------------------+-------+\n",
      "|01 Alimentos y bebidas no alcohólicas                                                |123.1  |\n",
      "|07 Transporte                                                                        |113.195|\n",
      "|11 Restaurantes y hoteles                                                            |112.589|\n",
      "|02 Bebidas alcohólicas y tabaco                                                      |112.583|\n",
      "|05 Muebles, artículos del hogar y artículos para el mantenimiento corriente del hogar|112.522|\n",
      "+-------------------------------------------------------------------------------------+-------+\n",
      "only showing top 5 rows\n",
      "\n"
     ]
    }
   ],
   "source": [
    "    # 2. Top 5 \"Grupos ECOICOP\" con el mayor valor \"Total\" (Media anual) en el año 2023 para \"15 Coruña, A\".\n",
    "    #    Excluiremos el \"Índice general\" para ver los grupos específicos.\n",
    "    print(\"\\n## 2. Top 5 'Grupos ECOICOP' por IPC (Media anual) en 2023 para '15 Coruña, A' (excl. Índice general):\")\n",
    "    top_grupos_2023_coru = df.filter(\n",
    "        (F.col(\"Provincias\") == \"15 Coruña, A\") &\n",
    "        (F.col(\"Periodo\") == 2023) &\n",
    "        (F.col(\"Tipo de dato\") == \"Media anual\") &\n",
    "        (F.col(\"Grupos ECOICOP\") != \"Índice general\")\n",
    "    ).select(\"Grupos ECOICOP\", \"Total\").orderBy(F.col(\"Total\").desc())\n",
    "\n",
    "    top_grupos_2023_coru.show(5, truncate=False)\n"
   ]
  },
  {
   "cell_type": "code",
   "execution_count": 19,
   "metadata": {},
   "outputs": [
    {
     "name": "stdout",
     "output_type": "stream",
     "text": [
      "\n",
      "## 3. Años con mayor y menor 'Variación de las medias anuales' del 'Índice general' en '15 Coruña, A':\n",
      "\n",
      "### Dato del Año con MAYOR variación:\n",
      "('  Periodo:', 2022, ', Variaci\\xc3\\xb3n (Total):', 8.5)\n",
      "\n",
      "### Dato del Año con MENOR variación:\n",
      "('  Periodo:', 2015, ', Variaci\\xc3\\xb3n (Total):', -0.6)\n"
     ]
    }
   ],
   "source": [
    "    # 3. Años con la mayor y menor \"Variación de las medias anuales\" para el \"Índice general\" en \"15 Coruña, A\".\n",
    "    print(\"\\n## 3. Años con mayor y menor 'Variación de las medias anuales' del 'Índice general' en '15 Coruña, A':\")\n",
    "\n",
    "    variacion_general_coru = df.filter(\n",
    "        (F.col(\"Provincias\") == \"15 Coruña, A\") &\n",
    "        (F.col(\"Grupos ECOICOP\") == \"Índice general\") &\n",
    "        (F.col(\"Tipo de dato\") == \"Variación de las medias anuales\") &\n",
    "        F.col(\"Total\").isNotNull()\n",
    "    )\n",
    "    \n",
    "    # Año con mayor variación\n",
    "    mayor_variacion_df = variacion_general_coru.orderBy(F.col(\"Total\").desc()).limit(1)\n",
    "    print(\"\\n### Dato del Año con MAYOR variación:\")\n",
    "    if not mayor_variacion_df.rdd.isEmpty():\n",
    "        fila_mayor = mayor_variacion_df.first()\n",
    "        print(\"  Periodo:\", fila_mayor['Periodo'], \", Variación (Total):\", fila_mayor['Total'])\n",
    "    else:\n",
    "        print(\"  No se encontraron datos para la mayor variación.\")\n",
    "\n",
    "    # Año con menor variación\n",
    "    menor_variacion_df = variacion_general_coru.orderBy(F.col(\"Total\").asc()).limit(1)\n",
    "    print(\"\\n### Dato del Año con MENOR variación:\")\n",
    "    if not menor_variacion_df.rdd.isEmpty():\n",
    "        fila_menor = menor_variacion_df.first()\n",
    "        print(\"  Periodo:\", fila_menor['Periodo'], \", Variación (Total):\", fila_menor['Total'])\n",
    "    else:\n",
    "        print(\"  No se encontraron datos para la menor variación.\")"
   ]
  },
  {
   "cell_type": "code",
   "execution_count": 24,
   "metadata": {},
   "outputs": [
    {
     "name": "stdout",
     "output_type": "stream",
     "text": [
      "\n",
      "## 5. Comparación IPC 'Índice general' (Media anual) en '15 Coruña, A' entre 2002 y 2024:\n",
      "('  IPC en 2002: ', 70.412)\n",
      "('  IPC en 2024: ', 115.693)\n",
      "  Incremento porcentual (2002-2024): 64.31%\n"
     ]
    }
   ],
   "source": [
    "    # 4. Comparar el IPC \"Media anual\" del \"Índice general\" de \"15 Coruña, A\"\n",
    "    #    entre el primer año disponible (p.ej. 2002) y el último (p.ej. 2024).\n",
    "    print(\"\\n## 4. Comparación IPC 'Índice general' (Media anual) en '15 Coruña, A' entre 2002 y 2024:\")\n",
    "\n",
    "    # Obtenemos el valor para 2002\n",
    "    ipc_2002_coru_df = df.filter(\n",
    "        (F.col(\"Provincias\") == \"15 Coruña, A\") &\n",
    "        (F.col(\"Grupos ECOICOP\") == \"Índice general\") &\n",
    "        (F.col(\"Tipo de dato\") == \"Media anual\") &\n",
    "        (F.col(\"Periodo\") == 2002)\n",
    "    ).select(\"Total\")\n",
    "\n",
    "    total_2002 = None\n",
    "    if not ipc_2002_coru_df.rdd.isEmpty():\n",
    "        total_2002 = ipc_2002_coru_df.first()[\"Total\"]\n",
    "        print(\"  IPC en 2002: \", total_2002)\n",
    "    else:\n",
    "        print(\"  No se encontraron datos del IPC para 2002.\")\n",
    "\n",
    "    # Obtenemos el valor para 2024\n",
    "    ipc_2024_coru_df = df.filter(\n",
    "        (F.col(\"Provincias\") == \"15 Coruña, A\") &\n",
    "        (F.col(\"Grupos ECOICOP\") == \"Índice general\") &\n",
    "        (F.col(\"Tipo de dato\") == \"Media anual\") &\n",
    "        (F.col(\"Periodo\") == 2024)\n",
    "    ).select(\"Total\")\n",
    "\n",
    "    total_2024 = None\n",
    "    if not ipc_2024_coru_df.rdd.isEmpty():\n",
    "        total_2024 = ipc_2024_coru_df.first()[\"Total\"]\n",
    "        print(\"  IPC en 2024: \",total_2024)\n",
    "    else:\n",
    "        print(\"  No se encontraron datos del IPC para 2024.\")\n",
    "\n",
    "    # Calcular e imprimir el incremento porcentual si ambos valores existen\n",
    "    if total_2002 is not None and total_2024 is not None:\n",
    "        if total_2002 != 0: # Evitar división por cero\n",
    "            incremento_porcentual = ((total_2024 - total_2002) / total_2002) * 100\n",
    "            print(\"  Incremento porcentual (2002-2024): {:.2f}%\".format(incremento_porcentual))\n",
    "        else:\n",
    "            print(\"  No se puede calcular el incremento porcentual porque el valor de 2002 es cero.\")"
   ]
  },
  {
   "cell_type": "code",
   "execution_count": null,
   "metadata": {},
   "outputs": [],
   "source": [
    "if '__main__' == __name__ and 'spark' in locals(): # Solo si 'spark' fue definido en este script\n",
    "    spark.stop()\n",
    "    print(\"SparkSession detenida.\")"
   ]
  }
 ],
 "metadata": {
  "kernelspec": {
   "display_name": "Python 2",
   "language": "python",
   "name": "python2"
  },
  "language_info": {
   "codemirror_mode": {
    "name": "ipython",
    "version": 2
   },
   "file_extension": ".py",
   "mimetype": "text/x-python",
   "name": "python",
   "nbconvert_exporter": "python",
   "pygments_lexer": "ipython2",
   "version": "2.7.15"
  }
 },
 "nbformat": 4,
 "nbformat_minor": 2
}
